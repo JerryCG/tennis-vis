{
 "cells": [
  {
   "attachments": {},
   "cell_type": "markdown",
   "metadata": {},
   "source": [
    "# Occasional Updates - Last Update: 2024-05-26"
   ]
  },
  {
   "cell_type": "markdown",
   "metadata": {},
   "source": [
    "## 1. Import Libraries"
   ]
  },
  {
   "cell_type": "code",
   "execution_count": 1,
   "metadata": {},
   "outputs": [],
   "source": [
    "import pandas as pd\n",
    "import numpy as np"
   ]
  },
  {
   "cell_type": "markdown",
   "metadata": {},
   "source": [
    "## 2. Update Player Name File"
   ]
  },
  {
   "cell_type": "code",
   "execution_count": 5,
   "metadata": {},
   "outputs": [],
   "source": [
    "# https://www.tennisabstract.com/mwplayerlist.js?_=1715092352847 // 2024-05-07\n",
    "names = open('mwplayerlist.txt', encoding='utf-8-sig').read()\n",
    "# process name list and save to a new text file\n",
    "names = names[17:-3].split(\"\\\", \\\"\")\n",
    "with open(\"mwplayerlist_processed.txt\", \"w\", encoding='utf-8-sig') as f:\n",
    "    for name in names:\n",
    "        f.write(name)\n",
    "        f.write('\\n')\n",
    "f.close()"
   ]
  },
  {
   "cell_type": "code",
   "execution_count": 6,
   "metadata": {},
   "outputs": [],
   "source": [
    "# Separate women and men\n",
    "mp = []\n",
    "wp = []\n",
    "for name in names:\n",
    "    if name[1] == 'M':\n",
    "        mp.append(name)\n",
    "    elif name[1] == 'W':\n",
    "        wp.append(name)\n",
    "\n",
    "with open('mp.txt', 'w', encoding='utf-8-sig') as f:\n",
    "    for name in mp:\n",
    "        f.write(name)\n",
    "        f.write('\\n')\n",
    "f.close()\n",
    "\n",
    "with open('wp.txt', 'w', encoding='utf-8-sig') as f:\n",
    "    for name in wp:\n",
    "        f.write(name)\n",
    "        f.write('\\n')\n",
    "f.close()"
   ]
  },
  {
   "cell_type": "markdown",
   "metadata": {},
   "source": [
    "## 3. Update Leaderboard Files"
   ]
  },
  {
   "cell_type": "code",
   "execution_count": 12,
   "metadata": {},
   "outputs": [],
   "source": [
    "# load txt files\n",
    "def load_txt(file):\n",
    "    with open(file, 'r', encoding='utf-8-sig') as f:\n",
    "        attributes = f.readline()[:-1].split(',')\n",
    "        df = pd.DataFrame([line[:-1].split(',') for line in f], columns = attributes)\n",
    "    f.close()\n",
    "    return df\n",
    "\n",
    "# define functions to clean df\n",
    "def clean_df(df):\n",
    "    cleaned = df.replace('', np.NaN)\n",
    "    cleaned['Date'] = pd.to_datetime(cleaned['Date'])\n",
    "    return cleaned"
   ]
  },
  {
   "cell_type": "code",
   "execution_count": null,
   "metadata": {},
   "outputs": [],
   "source": [
    "# Update totals (gs + atp1000 + finale + olympic), wr, gs, atp1000 + finale\n",
    "pl = []\n",
    "with open('mp.txt') as f:\n",
    "    for line in f:\n",
    "        pl.append(line[4:-1].strip())\n",
    "f.close()\n",
    "\n",
    "attrs = ['Player', 'Total_Titles', 'Total_Titles_Text', 'GS', 'GS_Text', 'ATP1000', 'ATP Finale', 'Olympics', 'ATP1000+Finale', 'ATP1000+Finale_Text', 'WR', 'W', 'Matches']\n",
    "dict = {}\n",
    "for attr in attrs:\n",
    "    dict[attr] = []\n",
    "\n",
    "gs = ['Wimbledon', 'US Open', 'Australian Open', 'Roland Garros']\n",
    "atp1000 = ['Indian Wells Masters', 'Miami Masters', 'Monte Carlo Masters', 'Madrid Masters', 'Rome Masters', 'Canada Masters', 'Cincinnati Masters', 'Shanghai Masters', 'Paris Masters', 'Hamburg Masters']\n",
    "\n",
    "for i, p in enumerate(pl):\n",
    "    try:\n",
    "        df = load_txt('m/matches/txt/'+p+'.txt')\n",
    "    except:\n",
    "        print('Finished:', i+1)\n",
    "        continue\n",
    "    dict['Player'].append(p)\n",
    "    dict['Total_Titles'].append(len(df[(df['Tournament'].isin(gs+atp1000+['Tour Finals', 'Masters Cup']) | df['Tournament'].str.contains('Olympics')) & (df['Rd'] == 'F') & (df['W'] == '1')]))\n",
    "    dict['Total_Titles_Text'].append(str(len(df[(df['Tournament'].isin(gs)) & (df['Rd'] == 'F') & (df['W'] == '1')])) + ' + ' + str(len(df[(df['Tournament'].isin(atp1000)) & (df['Rd'] == 'F') & (df['W'] == '1')])) + ' + ' + str(len(df[(df['Tournament'].isin(['Tour Finals', 'Masters Cup'])) & (df['Rd'] == 'F') & (df['W'] == '1')])) + ' + ' + str(len(df[(df['Tournament'].str.contains('Olympics')) & (df['Rd'] == 'F') & (df['W'] == '1')])))\n",
    "    dict['GS'].append(len(df[(df['Tournament'].isin(gs)) & (df['Rd'] == 'F') & (df['W'] == '1')]))\n",
    "    dict['GS_Text'].append(str(len(df[(df['Tournament'] == 'Australian Open') & (df['Rd'] == 'F') & (df['W'] == '1')])) + ' + ' + str(len(df[(df['Tournament'] == 'Wimbledon') & (df['Rd'] == 'F') & (df['W'] == '1')])) + ' + ' + str(len(df[(df['Tournament'] == 'Roland Garros') & (df['Rd'] == 'F') & (df['W'] == '1')])) + ' + ' + str(len(df[(df['Tournament'] == 'US Open') & (df['Rd'] == 'F') & (df['W'] == '1')])))\n",
    "    dict['ATP1000'].append(len(df[(df['Tournament'].isin(atp1000)) & (df['Rd'] == 'F') & (df['W'] == '1')]))\n",
    "    dict['Olympics'].append(len(df[(df['Tournament'].str.contains('Olympics')) & (df['Rd'] == 'F') & (df['W'] == '1')]))\n",
    "    dict['ATP Finale'].append(len(df[(df['Tournament'].isin(['Tour Finals', 'Masters Cup'])) & (df['Rd'] == 'F') & (df['W'] == '1')]))\n",
    "    dict['ATP1000+Finale'].append(len(df[(df['Tournament'].isin(atp1000+['Tour Finals', 'Masters Cup'])) & (df['Rd'] == 'F') & (df['W'] == '1')]))\n",
    "    dict['ATP1000+Finale_Text'].append(str(len(df[(df['Tournament'].isin(atp1000)) & (df['Rd'] == 'F') & (df['W'] == '1')])) + ' + ' + str(len(df[(df['Tournament'].isin(['Tour Finals', 'Masters Cup'])) & (df['Rd'] == 'F') & (df['W'] == '1')])))\n",
    "    try:\n",
    "        dict['WR'].append(len(df[df['W'] == '1']) / len(df))\n",
    "    except:\n",
    "        dict['WR'].append(0)\n",
    "    dict['W'].append(len(df[df['W'] == '1']))\n",
    "    dict['Matches'].append(len(df))\n",
    "\n",
    "    print('Finished:', i+1)\n",
    "\n",
    "df = pd.DataFrame(dict)\n",
    "\n",
    "df.to_csv('m/basics/atptitleswr.txt', index = False, sep = ',', encoding = 'utf-8-sig')"
   ]
  },
  {
   "cell_type": "code",
   "execution_count": 11,
   "metadata": {},
   "outputs": [],
   "source": [
    "# Update the Top10 leaders\n",
    "df.sort_values(by=['Total_Titles'], ascending=False).reset_index(drop = True).iloc[:10].to_csv('m/leaders/totaltitlestop10.txt', index = False, sep = ',', encoding = 'utf-8-sig')\n",
    "df[df['Matches'] >= 100].sort_values(by=['WR'], ascending=False).reset_index(drop = True).iloc[:10].to_csv('m/leaders/wrtop10.txt', index = False, sep = ',', encoding = 'utf-8-sig')\n",
    "df.sort_values(by=['GS'], ascending=False).reset_index(drop = True).iloc[:10].to_csv('m/leaders/gstop10.txt', index = False, sep = ',', encoding = 'utf-8-sig')\n",
    "df.sort_values(by=['ATP1000+Finale'], ascending=False).reset_index(drop = True).iloc[:10].to_csv('m/leaders/atp1000+finaletop10.txt', index = False, sep = ',', encoding = 'utf-8-sig')"
   ]
  },
  {
   "cell_type": "markdown",
   "metadata": {},
   "source": [
    "## 4. Update GS Map and Time Trend Chart"
   ]
  },
  {
   "cell_type": "code",
   "execution_count": null,
   "metadata": {},
   "outputs": [],
   "source": [
    "# 1990 - 2024 cumulated GS Titles collection for time trend\n",
    "import os\n",
    "files = os.listdir('m/matches/txt/')\n",
    "attrs = ['Player'] + [i+1990 for i in range(35)]\n",
    "gs = ['Wimbledon', 'US Open', 'Australian Open', 'Roland Garros']\n",
    "\n",
    "dict = {}\n",
    "for attr in attrs:\n",
    "    dict[attr] = []\n",
    "\n",
    "for i, file in enumerate(files):\n",
    "    try:\n",
    "        df = clean_df(load_txt('m/matches/txt/'+file))\n",
    "        dict['Player'].append(file.split('.')[0])\n",
    "        for d in attrs[1:]:\n",
    "            dict[d].append(len(df[(df['Date'] <= str(d)+'-12-31') & (df['Tournament'].isin(gs)) & (df['Rd'] == 'F') & (df['W'] == '1')]))\n",
    "        print('Finished:', i+1)\n",
    "    except:\n",
    "        pass\n",
    "\n",
    "df = pd.DataFrame(dict).sort_values(by=2024, ascending=False)\n",
    "df.to_csv('m/titles/gscounts19902024.txt', index = False, sep = ',', encoding='utf-8-sig')"
   ]
  },
  {
   "cell_type": "code",
   "execution_count": null,
   "metadata": {},
   "outputs": [],
   "source": [
    "# update data for making gs netwrok\n",
    "import os\n",
    "files = os.listdir('m/matches/txt/')\n",
    "attrs = ['Source', 'Target', 'Value']\n",
    "gs = ['Wimbledon', 'US Open', 'Australian Open', 'Roland Garros']\n",
    "\n",
    "dict = {}\n",
    "for attr in attrs:\n",
    "    dict[attr] = []\n",
    "\n",
    "for i, file in enumerate(files):\n",
    "    try:\n",
    "        df = load_txt('m/matches/txt/'+file)\n",
    "        target = file.split('.')[0]\n",
    "        for g in gs:\n",
    "            cnt = len(df[(df['Tournament'] == g) & (df['Rd'] == 'F') & (df['W'] == '1')])\n",
    "            if cnt > 0:\n",
    "                dict['Source'].append(g)\n",
    "                dict['Target'].append(target)\n",
    "                dict['Value'].append(cnt)\n",
    "        print('Finished:', i+1)\n",
    "    except:\n",
    "        pass\n",
    "\n",
    "df = pd.DataFrame(dict)\n",
    "df.to_csv('m/titles/gsmapping.txt', index = False, sep = ',', encoding='utf-8-sig')"
   ]
  },
  {
   "cell_type": "code",
   "execution_count": 15,
   "metadata": {},
   "outputs": [],
   "source": [
    "# Get all gs champions\n",
    "names = [i for i in set(dict['Target'])]\n",
    "\n",
    "# Save to txt (to paste on Flourish: Mapping - Points)\n",
    "with open('m/titles/gschampions.txt', 'w') as f:\n",
    "    for name in names:\n",
    "        f.write(name)\n",
    "        f.write('\\n')\n",
    "f.close()"
   ]
  },
  {
   "cell_type": "code",
   "execution_count": 16,
   "metadata": {},
   "outputs": [],
   "source": [
    "# calculate how many gs, save to txt (to paste on Flourish: Mapping - Points)\n",
    "cnt = []\n",
    "with open('m/titles/gscnt.txt', 'w') as f:\n",
    "    for name in names:\n",
    "        df = load_txt('m/matches/txt/'+name+'.txt')\n",
    "        gs = ['Wimbledon', 'US Open', 'Australian Open', 'Roland Garros']\n",
    "        f.write(str(len(df[(df['Tournament'].isin(gs)) & (df['Rd'] == 'F') & (df['W'] == '1')])))\n",
    "        f.write('\\n')\n",
    "f.close()"
   ]
  },
  {
   "cell_type": "code",
   "execution_count": 21,
   "metadata": {},
   "outputs": [
    {
     "name": "stdout",
     "output_type": "stream",
     "text": [
      "Wimbledon 84\n",
      "US Open 86\n",
      "Australian Open 80\n",
      "Roland Garros 84\n"
     ]
    },
    {
     "data": {
      "text/plain": [
       "334"
      ]
     },
     "execution_count": 21,
     "metadata": {},
     "output_type": "execute_result"
    }
   ],
   "source": [
    "# calculate how many GSs are held\n",
    "gslist = []\n",
    "with open('m/titles/gsmapping.txt', 'r') as f:\n",
    "    f.readline()\n",
    "    for line in f:\n",
    "        gslist.append((line.split(',')[0], line.split(',')[2]))\n",
    "\n",
    "# Print results\n",
    "for item in ['Wimbledon', 'US Open', 'Australian Open', 'Roland Garros']:\n",
    "    v = sum([int(gs[1]) for gs in gslist if gs[0] == item])\n",
    "    print(item, v)\n",
    "\n",
    "total = sum([int(gs[1]) for gs in gslist])\n",
    "total"
   ]
  },
  {
   "cell_type": "markdown",
   "metadata": {},
   "source": [
    "## 5. Update Data for Simple ML Analysis"
   ]
  },
  {
   "cell_type": "code",
   "execution_count": null,
   "metadata": {},
   "outputs": [],
   "source": [
    "# Set attributes\n",
    "attrs = ['Player', 'Weight (kg)', 'Height (cm)', 'Birthday', 'Year Turned Pro', 'Right-Left-Handed', 'Two-One-Backhanded', 'Matches', 'Wins', 'Losses', 'Winning Ratio', 'Ace (%)', 'Double Fault (%)', '1st Serve In (%)', '1st Serve Win (%)', '2nd Serve Win (%)', 'Total Points Win (%)', 'Return Points Win (%)', 'Dominant Rate']\n",
    "dict = {}\n",
    "for attr in attrs:\n",
    "    dict[attr] = []\n",
    "\n",
    "unmatched = []\n",
    "\n",
    "# Here we want to match the atpprofilebasics with the tennisabstract file \n",
    "# by name, so previously we replace - with space in the profile file\n",
    "df_basics = load_txt('m/basics/atpprofilebasics.txt')\n",
    "players = [p for p in df_basics['Player']]\n",
    "for i, player in enumerate(players):\n",
    "    try:\n",
    "        df_match = load_txt('m/matches/txt/'+player+'.txt')\n",
    "    except:\n",
    "        print(player, 'not found.')\n",
    "        unmatched.append(player)\n",
    "        continue\n",
    "    # add player\n",
    "    dict['Player'].append(player)\n",
    "    # add weight\n",
    "    if df_basics['Weight (kg)'][i] != '':\n",
    "        dict['Weight (kg)'].append(float(df_basics['Weight (kg)'][i]))\n",
    "    else:\n",
    "        dict['Weight (kg)'].append(0)\n",
    "    # add height\n",
    "    if df_basics['Height (cm)'][i] != '':\n",
    "        dict['Height (cm)'].append(float(df_basics['Height (cm)'][i]))\n",
    "    else:\n",
    "        dict['Height (cm)'].append(0)\n",
    "    # add birthday\n",
    "    dict['Birthday'].append(df_basics['Birthday'][i])\n",
    "    # add turned pro\n",
    "    dict['Year Turned Pro'].append(df_basics['Turned Pro'][i])\n",
    "    # add right-left, 1-0\n",
    "    if 'Right' in df_basics['Plays'][i]:\n",
    "        dict['Right-Left-Handed'].append(1)\n",
    "    elif 'Left' in df_basics['Plays'][i]:\n",
    "        dict['Right-Left-Handed'].append(0)\n",
    "    else:\n",
    "        dict['Right-Left-Handed'].append('')\n",
    "    # add backhand style\n",
    "    if 'Two' in df_basics['Plays'][i]:\n",
    "        dict['Two-One-Backhanded'].append(1)\n",
    "    elif 'One' in df_basics['Plays'][i]:\n",
    "        dict['Two-One-Backhanded'].append(0)\n",
    "    else:\n",
    "        dict['Two-One-Backhanded'].append('')\n",
    "    # add matches\n",
    "    dict['Matches'].append(len(df_match))\n",
    "    # add wins\n",
    "    dict['Wins'].append(len(df_match[df_match['W'] == '1']))\n",
    "    # add losses\n",
    "    dict['Losses'].append(len(df_match[df_match['W'] == '0']))\n",
    "    # WR\n",
    "    try:\n",
    "        dict['Winning Ratio'].append(len(df_match[df_match['W'] == '1']) / len(df_match))\n",
    "    except:\n",
    "        dict['Winning Ratio'].append(0)\n",
    "    # add ace\n",
    "    try:\n",
    "        dict['Ace (%)'].append(sum([float(a[:-1]) for a in df_match['A%'] if '%' in a]) / len(df_match[df_match['A%'].str.contains('%')]))\n",
    "    except:\n",
    "        dict['Ace (%)'].append(0)\n",
    "    # add double fault\n",
    "    try:\n",
    "        dict['Double Fault (%)'].append(sum([float(a[:-1]) for a in df_match['DF%'] if '%' in a]) / len(df_match[df_match['DF%'].str.contains('%')]))\n",
    "    except:\n",
    "        dict['Double Fault (%)'].append(0)\n",
    "    # add 1stServeIn\n",
    "    try:\n",
    "        dict['1st Serve In (%)'].append(sum([float(a[:-1]) for a in df_match['1stIn'] if '%' in a]) / len(df_match[df_match['1stIn'].str.contains('%')]))\n",
    "    except:\n",
    "        dict['1st Serve In (%)'].append(0)\n",
    "    # add 1stServeWin\n",
    "    try:\n",
    "        dict['1st Serve Win (%)'].append(sum([float(a[:-1]) for a in df_match['1st%'] if '%' in a]) / len(df_match[df_match['1st%'].str.contains('%')]))\n",
    "    except:\n",
    "        dict['1st Serve Win (%)'].append(0)\n",
    "    # add 2ndServeWin\n",
    "    try:\n",
    "        dict['2nd Serve Win (%)'].append(sum([float(a[:-1]) for a in df_match['2nd%'] if '%' in a]) / len(df_match[df_match['2nd%'].str.contains('%')]))\n",
    "    except:\n",
    "        dict['2nd Serve Win (%)'].append(0)\n",
    "    # add TPW\n",
    "    try:\n",
    "        dict['Total Points Win (%)'].append(sum([float(a[:-1]) for a in df_match['TPW'] if '%' in a]) / len(df_match[df_match['TPW'].str.contains('%')]))\n",
    "    except:\n",
    "        dict['Total Points Win (%)'].append(0)\n",
    "    # add RPW\n",
    "    try:\n",
    "        dict['Return Points Win (%)'].append(sum([float(a[:-1]) for a in df_match['RPW'] if '%' in a]) / len(df_match[df_match['RPW'].str.contains('%')]))\n",
    "    except:\n",
    "        dict['Return Points Win (%)'].append(0)\n",
    "    # add DR\n",
    "    try:\n",
    "        dict['Dominant Rate'].append(sum([float(a) for a in df_match['DR'] if '.' in a]) / len(df_match[df_match['DR'].str.contains('.')]))\n",
    "    except:\n",
    "        dict['Dominant Rate'].append(0)\n",
    "    print('Finished:', i+1)\n",
    "\n",
    "# save to txt\n",
    "df = pd.DataFrame(dict)\n",
    "df.to_csv('m/ds/atpds.txt', index = False, sep = ',', encoding = 'utf-8-sig')\n",
    "with open('m/basics/unmatched.txt', 'w', encoding = 'utf-8-sig') as f:\n",
    "    for u in unmatched:\n",
    "        f.write(u)\n",
    "        f.write('\\n')\n",
    "f.close()\n",
    "\n",
    "df_selected = df[(df['Height (cm)'] < 300) & (df['Height (cm)'] > 100) & (df['Weight (kg)'] > 40) & (df['Weight (kg)'] < 150) & (df['Right-Left-Handed'] != '') & (df['Two-One-Backhanded'] != '') & (df['Matches'] >= 100) & (df['Wins'] > 0) & (df['Losses'] > 0) & (df['Winning Ratio'] > 0) & (df['Ace (%)'] > 0) & (df['Double Fault (%)'] > 0) & (df['1st Serve In (%)'] > 0) & (df['1st Serve Win (%)'] > 0) & (df['2nd Serve Win (%)'] > 0) & (df['Total Points Win (%)'] > 0) & (df['Return Points Win (%)'] > 0) & (df['Dominant Rate'] > 0)]\n",
    "df_selected.to_csv('m/ds/atpdsselected.txt', index = False, sep = ',', encoding = 'utf-8-sig')"
   ]
  }
 ],
 "metadata": {
  "kernelspec": {
   "display_name": "base",
   "language": "python",
   "name": "python3"
  },
  "language_info": {
   "codemirror_mode": {
    "name": "ipython",
    "version": 3
   },
   "file_extension": ".py",
   "mimetype": "text/x-python",
   "name": "python",
   "nbconvert_exporter": "python",
   "pygments_lexer": "ipython3",
   "version": "3.9.12"
  },
  "orig_nbformat": 4
 },
 "nbformat": 4,
 "nbformat_minor": 2
}
